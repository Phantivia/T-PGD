{
 "cells": [
  {
   "cell_type": "code",
   "execution_count": 1,
   "metadata": {},
   "outputs": [],
   "source": [
    "import os"
   ]
  },
  {
   "cell_type": "code",
   "execution_count": 2,
   "metadata": {},
   "outputs": [],
   "source": [
    "#BERT on Roberta SST2\n",
    "device = 0\n",
    "for layer in [10]:\n",
    "    for adv_lr in [5]:\n",
    "        for dw in [0.5]:\n",
    "            os.system(f\"nohup python RunPandR.py \\\n",
    "                --task sst2\\\n",
    "                --tokenizer_checkpoint bert-base-uncased\\\n",
    "                --decode_mode Bert \\\n",
    "                --model_checkpoint  textattack/bert-base-uncased-SST-2 \\\n",
    "                    \\\n",
    "                --victim_model_checkpoint textattack/roberta-base-SST-2\\\n",
    "                --victim_tokenizer_checkpoint textattack/roberta-base-SST-2\\\n",
    "                    \\\n",
    "                --data_local_path ~/datasets/sst2_train\\\n",
    "                --start 0  --end 67348\\\n",
    "                --cuda_device {device} --victim_device -1\\\n",
    "                --perturb_layer 0 --decode_layer {layer}\\\n",
    "                --num_seg_steps 5 --num_adv_steps 15\\\n",
    "                --adv_lr {adv_lr} --init_mag 3 --decode_weight -{dw}\\\n",
    "                --bs_lower_limit 0.60 --bs_upper_limit 0.9\\\n",
    "                --target_metric use\\\n",
    "                >advLog/BertOnRoberta-SST2-Layer{layer}-Adv{adv_lr}-Dw{dw}-BS-FULL-515.out 2>&1 &\")\n",
    "            import time\n",
    "            device += 1"
   ]
  },
  {
   "cell_type": "code",
   "execution_count": 3,
   "metadata": {},
   "outputs": [],
   "source": [
    "#BERT on Albert SST2\n",
    "device = 1\n",
    "for layer in [10]:\n",
    "    for adv_lr in [5]:\n",
    "        for dw in [0.5]:\n",
    "            os.system(f\"nohup python RunPandR.py \\\n",
    "                --task sst2\\\n",
    "                --tokenizer_checkpoint bert-base-uncased\\\n",
    "                --decode_mode Bert \\\n",
    "                --model_checkpoint  textattack/bert-base-uncased-SST-2 \\\n",
    "                    \\\n",
    "                --victim_model_checkpoint textattack/albert-base-v2-SST-2\\\n",
    "                --victim_tokenizer_checkpoint textattack/albert-base-v2-SST-2\\\n",
    "                    \\\n",
    "                --data_local_path ~/datasets/sst2_train\\\n",
    "                --start 0  --end 67348\\\n",
    "                --cuda_device {device} --victim_device -1\\\n",
    "                --perturb_layer 0 --decode_layer {layer}\\\n",
    "                --num_seg_steps 5 --num_adv_steps 15\\\n",
    "                --adv_lr {adv_lr} --init_mag 3 --decode_weight -{dw}\\\n",
    "                --bs_lower_limit 0.60 --bs_upper_limit 0.9\\\n",
    "                --target_metric bs\\\n",
    "                >advLog/BertOnAlbert-SST2-Layer{layer}-Adv{adv_lr}-Dw{dw}-BS-FULL-515.out 2>&1 &\")\n",
    "            import time\n",
    "            device += 1"
   ]
  },
  {
   "cell_type": "code",
   "execution_count": 3,
   "metadata": {},
   "outputs": [],
   "source": [
    "#BERT on Bert SST2\n",
    "device = 1\n",
    "for layer in [10]:\n",
    "    for adv_lr in [5]:\n",
    "        for dw in [0.5]:\n",
    "            os.system(f\"nohup python RunPandR.py \\\n",
    "                --task sst2\\\n",
    "                --tokenizer_checkpoint bert-base-uncased\\\n",
    "                --decode_mode Bert \\\n",
    "                --model_checkpoint  textattack/bert-base-uncased-SST-2 \\\n",
    "                    \\\n",
    "                --victim_model_checkpoint textattack/bert-base-uncased-SST-2\\\n",
    "                --victim_tokenizer_checkpoint textattack/bert-base-uncased-SST-2\\\n",
    "                    \\\n",
    "                --data_local_path ~/datasets/sst2_train\\\n",
    "                --start 33501   --end  67348\\\n",
    "                --cuda_device {device} --victim_device -1\\\n",
    "                --perturb_layer 0 --decode_layer {layer}\\\n",
    "                --num_seg_steps 5 --num_adv_steps 15\\\n",
    "                --adv_lr {adv_lr} --init_mag 3 --decode_weight -{dw}\\\n",
    "                --bs_lower_limit 0.60 --bs_upper_limit 0.9\\\n",
    "                --target_metric use\\\n",
    "                >advLog/BertOnBert-SST2-Layer{layer}-Adv{adv_lr}-Dw{dw}-USE-FULL-515-1.out 2>&1 &\")\n",
    "\n",
    "            import time\n",
    "            device += 1"
   ]
  }
 ],
 "metadata": {
  "interpreter": {
   "hash": "28ab90c9d1ffadb26c826c1c6aea2497958474ae3f9654557b40ba40f3526d30"
  },
  "kernelspec": {
   "display_name": "Python 3.9.7 64-bit ('phantivia': conda)",
   "language": "python",
   "name": "python3"
  },
  "language_info": {
   "codemirror_mode": {
    "name": "ipython",
    "version": 3
   },
   "file_extension": ".py",
   "mimetype": "text/x-python",
   "name": "python",
   "nbconvert_exporter": "python",
   "pygments_lexer": "ipython3",
   "version": "3.9.7"
  },
  "orig_nbformat": 4
 },
 "nbformat": 4,
 "nbformat_minor": 2
}
